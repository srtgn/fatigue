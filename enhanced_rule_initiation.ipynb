{
 "cells": [
  {
   "cell_type": "markdown",
   "metadata": {
    "collapsed": true,
    "pycharm": {
     "name": "#%% md\n"
    }
   },
   "source": [
    "# Enhanced rule symbolic and analytical implementation"
   ]
  },
  {
   "cell_type": "markdown",
   "metadata": {},
   "source": [
    "This notebook presents the enhanced rule for the fatigue model for plain concrete under uniaxial compressive loading, sugessted by A. Baktheer et al. in [Enhanced assessment rule for concrete fatigue under compression considering the nonlinear effect of loading sequence](https://www.researchgate.net/publication/332636421_Enhanced_assessment_rule_for_concrete_fatigue_under_compression_considering_the_nonlinear_effect_of_loading_sequence)\n",
    "\n",
    "In this paper, a refined engineering rule for the assessment of remaining fatigue life of concrete under compressive cyclic loading with varying amplitudes is proposed. The rule has been derived based on a combined numerical and experimental investigation of the loading sequence effect. The applied modeling approach is based on a damage model using the equivalent tensile strain rate to govern the fatigue damage evolution upon loading and reloading at subcritical load levels. A systematic calibration and validation procedure of the numerical model was performed based on the available experimental results. The prediction of the numerical model was compared with existing damage accumulation rules for the assessment of the concrete fatigue life exposed to varying loading ranges. Based on these studies, an enhancement of the Palmgren-Miner rule is proposed and validated for several loading sequence scenarios."
   ]
  },
  {
   "cell_type": "code",
   "execution_count": 1,
   "metadata": {},
   "outputs": [],
   "source": [
    "%matplotlib inline\n",
    "import matplotlib.pyplot as plt\n",
    "import numpy as np\n",
    "import sympy as sp\n",
    "from sympy import Piecewise"
   ]
  },
  {
   "cell_type": "markdown",
   "metadata": {},
   "source": [
    "### 5. Enhanced rule for the loading sequence effect"
   ]
  },
  {
   "cell_type": "markdown",
   "metadata": {},
   "source": [
    "#### 5.1. Correction term for the P-M rule"
   ]
  },
  {
   "cell_type": "markdown",
   "metadata": {},
   "source": [
    "##### eq 27:\n",
    "The expression for the consumed fatigue life under a loading scenario consisting of n varying loading ranges is proposed in\n",
    "the form"
   ]
  },
  {
   "cell_type": "markdown",
   "metadata": {},
   "source": [
    "$$\\eta  =  \\sum_{i=1}^{n} \\eta_i + \\sum_{i=1}^{n-1} \\Delta\\eta_i$$"
   ]
  },
  {
   "cell_type": "markdown",
   "metadata": {},
   "source": [
    "$$\\rho_i  = N_i / N^f_i$$"
   ]
  },
  {
   "cell_type": "markdown",
   "metadata": {},
   "source": [
    "$$ \\Delta\\eta_i \\overset{\\mathrm{def}}{=} \\mathscr{R} (\\bar{S}_i, \\Delta S_i^{max}, \\Delta S_i^{min}, \\tilde{\\eta_i})$$"
   ]
  },
  {
   "cell_type": "markdown",
   "metadata": {},
   "source": [
    "$$\\bar{S}_i = (S_i^m + S_{i+1}^m)  /  2$$"
   ]
  },
  {
   "cell_type": "markdown",
   "metadata": {},
   "source": [
    "$$S_i^m = (S_i^{max} + S_i^{min})  /  2$$"
   ]
  },
  {
   "cell_type": "markdown",
   "metadata": {},
   "source": [
    "$$S_{i+1}^m = (S_{i+1}^{max} + S_{i+1}^{min})  /  2$$"
   ]
  },
  {
   "cell_type": "markdown",
   "metadata": {},
   "source": [
    "$$\\Delta S_i^{max} = S_{i+1}^{max} - S_i^{min}$$ "
   ]
  },
  {
   "cell_type": "markdown",
   "metadata": {},
   "source": [
    "$$\\Delta S_i^{min} = S_{i+1}^{min} - S_i^{min}$$ "
   ]
  },
  {
   "attachments": {
    "Illustration%20of%20the%20loading%20parameters-2.jpg": {
     "image/jpeg": "[encoded data removed]"
    }
   },
   "cell_type": "markdown",
   "metadata": {},
   "source": [
    "![Illustration%20of%20the%20loading%20parameters-2.jpg](attachment:Illustration%20of%20the%20loading%20parameters-2.jpg)"
   ]
  },
  {
   "cell_type": "code",
   "execution_count": 2,
   "metadata": {},
   "outputs": [],
   "source": [
    "Delta_eta_i,Delta_eta_max, tilde_eta_i,eta_x = sp.symbols(\n",
    "    r'\\Delta\\eta_i,\\Delta\\eta_{max},\\tilde{\\eta_i}, eta_x', \n",
    "    real=True, nonnegative=True\n",
    ")"
   ]
  },
  {
   "cell_type": "code",
   "execution_count": 3,
   "metadata": {},
   "outputs": [
    {
     "data": {
      "text/latex": [
       "$\\displaystyle \\begin{cases} \\Delta\\eta_{max} \\left(1 - \\frac{- \\tilde{\\eta_i} + \\eta_{x}}{\\eta_{x}}\\right) & \\text{for}\\: \\tilde{\\eta_i} \\leq \\eta_{x} \\wedge \\tilde{\\eta_i} > 0 \\\\\\frac{\\Delta\\eta_{max} \\left(\\tilde{\\eta_i} - 1\\right)}{\\eta_{x} - 1} & \\text{for}\\: \\tilde{\\eta_i} > \\eta_{x} \\wedge \\tilde{\\eta_i} < 1 \\end{cases}$"
      ],
      "text/plain": [
       "Piecewise((\\Delta\\eta_{max}*(1 - (-\\tilde{\\eta_i} + eta_x)/eta_x), (\\tilde{\\eta_i} <= eta_x) & (\\tilde{\\eta_i} > 0)), (\\Delta\\eta_{max}*(\\tilde{\\eta_i} - 1)/(eta_x - 1), (\\tilde{\\eta_i} > eta_x) & (\\tilde{\\eta_i} < 1)))"
      ]
     },
     "execution_count": 3,
     "metadata": {},
     "output_type": "execute_result"
    }
   ],
   "source": [
    "Delta_eta_i = sp.Piecewise(   \n",
    "    \n",
    "    ((Delta_eta_max * (1 - ((eta_x-tilde_eta_i) / eta_x))),  ((tilde_eta_i > 0) & (tilde_eta_i <= eta_x))) ,\n",
    "        ((Delta_eta_max * ((tilde_eta_i - 1) / (eta_x - 1)) ,  ((tilde_eta_i > eta_x) & (tilde_eta_i < 1))))\n",
    ")\n",
    "\n",
    "Delta_eta_i"
   ]
  },
  {
   "cell_type": "markdown",
   "metadata": {},
   "source": [
    "$$ \\Delta\\eta_{max} (\\bar{S}, \\Delta S^{max}) = [\\mathit{f}_1(\\Delta S^{max} + \\mathit{f}_2 (\\bar{S})] sign (\\Delta S^{max})$$\n",
    "\n",
    "$$ \\mathit{f}_1 (\\Delta S^{max}) = \\mathrm{A} (\\Delta S^{max})^2 + \\mathrm{B} \\Delta S^{max} sign (\\Delta S^{max})$$\n",
    "\n",
    "$$ \\mathit{f}_2 (\\bar{S}) = \\mathrm{C} (\\ 0.475 - \\bar{S})$$"
   ]
  },
  {
   "cell_type": "code",
   "execution_count": 4,
   "metadata": {},
   "outputs": [],
   "source": [
    "A = -10.66\n",
    "B = 6.1\n",
    "C = 2"
   ]
  },
  {
   "cell_type": "markdown",
   "metadata": {},
   "source": [
    "$\\beta_\\downarrow$"
   ]
  },
  {
   "cell_type": "code",
   "execution_count": 5,
   "metadata": {},
   "outputs": [],
   "source": [
    "eta_uparrow, eta_downarrow, beta_uparrow, beta_downarrow, Delta_eta_max, tan = sp.symbols(\n",
    "    r'\\eta_\\uparrow, \\eta_\\downarrow, \\beta_\\uparrow, \\beta_\\downarrow,\\Delta\\eta_{max},\\tan', \n",
    "    real=True, nonnegative=True\n",
    ")"
   ]
  },
  {
   "cell_type": "code",
   "execution_count": 18,
   "metadata": {},
   "outputs": [
    {
     "data": {
      "text/latex": [
       "$\\displaystyle \\begin{cases} \\frac{\\Delta\\eta_{max} \\beta_\\uparrow}{\\tan} + \\eta_\\uparrow & \\text{for}\\: \\Delta\\eta_{max} > 0 \\\\\\frac{\\Delta\\eta_{max} \\beta_\\downarrow}{\\tan} + \\eta_\\downarrow & \\text{otherwise} \\end{cases}$"
      ],
      "text/plain": [
       "Piecewise((\\Delta\\eta_{max}*\\beta_\\uparrow/\\tan + \\eta_\\uparrow, \\Delta\\eta_{max} > 0), (\\Delta\\eta_{max}*\\beta_\\downarrow/\\tan + \\eta_\\downarrow, True))"
      ]
     },
     "execution_count": 18,
     "metadata": {},
     "output_type": "execute_result"
    }
   ],
   "source": [
    "eta_x = sp.Piecewise(   \n",
    "    \n",
    "    ((eta_uparrow + Delta_eta_max / tan * (beta_uparrow)) , (Delta_eta_max > 0)),\n",
    "    ((eta_downarrow + Delta_eta_max / tan * (beta_downarrow)) , (Delta_eta_max <= 0)),\n",
    ")\n",
    "\n",
    "eta_x"
   ]
  },
  {
   "cell_type": "code",
   "execution_count": 20,
   "metadata": {},
   "outputs": [],
   "source": [
    "eta_uparrow = 0.74\n",
    "beta_uparrow = 74.7\n",
    "eta_downarrow = 0.59\n",
    "beta_downarrow = 60.5"
   ]
  },
  {
   "cell_type": "markdown",
   "metadata": {},
   "source": [
    "| Symbol | Unit | Description\n",
    "| :-: | :-: | :- |\n",
    "| $\\rho^\\mathrm{test}$ | % | Reinforcement ratio|\n",
    "| $a_\\mathrm{f}$ | $\\frac{m^{2}}{m}$ | Fabric area per unit width |\n",
    "| $d^\\mathrm{test}$ | m | Cross-sectional thickness |"
   ]
  },
  {
   "cell_type": "code",
   "execution_count": 7,
   "metadata": {},
   "outputs": [],
   "source": [
    "def get_rho_test(a_f, d_test):\n",
    "    rho_test = np.divide(a_f, d_test) \n",
    "    return rho_test"
   ]
  },
  {
   "cell_type": "code",
   "execution_count": 8,
   "metadata": {},
   "outputs": [
    {
     "data": {
      "text/plain": [
       "array([0.00616, 0.01713])"
      ]
     },
     "execution_count": 8,
     "metadata": {},
     "output_type": "execute_result"
    }
   ],
   "source": [
    "a_f = [0.616e-4, 1.713e-4]\n",
    "d_test = 0.01\n",
    "rho_test = get_rho_test(a_f,d_test)\n",
    "rho_test"
   ]
  },
  {
   "cell_type": "code",
   "execution_count": null,
   "metadata": {},
   "outputs": [],
   "source": []
  },
  {
   "cell_type": "code",
   "execution_count": null,
   "metadata": {},
   "outputs": [],
   "source": []
  }
 ],
 "metadata": {
  "kernelspec": {
   "display_name": "Python 3",
   "language": "python",
   "name": "python3"
  },
  "language_info": {
   "codemirror_mode": {
    "name": "ipython",
    "version": 3
   },
   "file_extension": ".py",
   "mimetype": "text/x-python",
   "name": "python",
   "nbconvert_exporter": "python",
   "pygments_lexer": "ipython3",
   "version": "3.7.9"
  }
 },
 "nbformat": 4,
 "nbformat_minor": 1
}
